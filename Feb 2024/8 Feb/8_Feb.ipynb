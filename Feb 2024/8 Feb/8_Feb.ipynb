{
 "cells": [
  {
   "cell_type": "code",
   "execution_count": 13,
   "metadata": {},
   "outputs": [
    {
     "name": "stdout",
     "output_type": "stream",
     "text": [
      "[0, 1, 1, 1, 1, 2, 3, 3, '_']\n",
      "None\n"
     ]
    }
   ],
   "source": [
    "def removeDuplicates(nums):\n",
    "    count = 0\n",
    "    for i in range(len(nums) - 1):\n",
    "        rem = 0\n",
    "        while nums[i] == nums[i+1] and count <= 3 and rem <= 2:\n",
    "\n",
    "            if count == 3:\n",
    "                nums.remove(nums[i])\n",
    "                nums.append('_')\n",
    "                rem += 1\n",
    "            count+=1\n",
    "\n",
    "    num = 0\n",
    "    for i in range(len(nums)):\n",
    "        if nums[i] != '_':\n",
    "            num += 1 \n",
    "    print(nums)\n",
    "nums = [0,0,1,1,1,1,2,3,3]\n",
    "res = removeDuplicates(nums)\n",
    "# [0,0,1,1,2,3,3]\n",
    "print(res)"
   ]
  },
  {
   "cell_type": "code",
   "execution_count": null,
   "metadata": {},
   "outputs": [],
   "source": []
  }
 ],
 "metadata": {
  "kernelspec": {
   "display_name": "Python 3",
   "language": "python",
   "name": "python3"
  },
  "language_info": {
   "codemirror_mode": {
    "name": "ipython",
    "version": 3
   },
   "file_extension": ".py",
   "mimetype": "text/x-python",
   "name": "python",
   "nbconvert_exporter": "python",
   "pygments_lexer": "ipython3",
   "version": "3.12.0"
  }
 },
 "nbformat": 4,
 "nbformat_minor": 2
}
