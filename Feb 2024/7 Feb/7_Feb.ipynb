{
 "cells": [
  {
   "cell_type": "markdown",
   "metadata": {},
   "source": [
    "word1 = \"a b\"  word2 = \" p q r s\"\n",
    "word1[]+word2[]\n",
    "word1[]+word2[]\n",
    "word2.append()\n"
   ]
  },
  {
   "cell_type": "code",
   "execution_count": 14,
   "metadata": {},
   "outputs": [
    {
     "ename": "IndexError",
     "evalue": "string index out of range",
     "output_type": "error",
     "traceback": [
      "\u001b[1;31m---------------------------------------------------------------------------\u001b[0m",
      "\u001b[1;31mIndexError\u001b[0m                                Traceback (most recent call last)",
      "Cell \u001b[1;32mIn[14], line 37\u001b[0m\n\u001b[0;32m     35\u001b[0m word1 \u001b[38;5;241m=\u001b[39m \u001b[38;5;124m\"\u001b[39m\u001b[38;5;124mab\u001b[39m\u001b[38;5;124m\"\u001b[39m\n\u001b[0;32m     36\u001b[0m word2 \u001b[38;5;241m=\u001b[39m \u001b[38;5;124m\"\u001b[39m\u001b[38;5;124mpqrs\u001b[39m\u001b[38;5;124m\"\u001b[39m\n\u001b[1;32m---> 37\u001b[0m res \u001b[38;5;241m=\u001b[39m \u001b[43mmergeAlternately\u001b[49m\u001b[43m(\u001b[49m\u001b[43mword1\u001b[49m\u001b[43m,\u001b[49m\u001b[43m \u001b[49m\u001b[43mword2\u001b[49m\u001b[43m)\u001b[49m\n\u001b[0;32m     38\u001b[0m \u001b[38;5;28mprint\u001b[39m(res)\n",
      "Cell \u001b[1;32mIn[14], line 10\u001b[0m, in \u001b[0;36mmergeAlternately\u001b[1;34m(word1, word2)\u001b[0m\n\u001b[0;32m      8\u001b[0m \u001b[38;5;28;01mif\u001b[39;00m \u001b[38;5;28mlen\u001b[39m(word1) \u001b[38;5;241m<\u001b[39m \u001b[38;5;28mlen\u001b[39m(word2):\n\u001b[0;32m      9\u001b[0m     \u001b[38;5;28;01mfor\u001b[39;00m i \u001b[38;5;129;01min\u001b[39;00m \u001b[38;5;28mrange\u001b[39m(\u001b[38;5;28mlen\u001b[39m(word2)):\n\u001b[1;32m---> 10\u001b[0m         \u001b[38;5;28;01mif\u001b[39;00m \u001b[43mword1\u001b[49m\u001b[43m[\u001b[49m\u001b[43mi\u001b[49m\u001b[43m]\u001b[49m \u001b[38;5;241m==\u001b[39m \u001b[38;5;124m'\u001b[39m\u001b[38;5;124m'\u001b[39m:\n\u001b[0;32m     11\u001b[0m             \u001b[38;5;28mprint\u001b[39m(w1)\n\u001b[0;32m     12\u001b[0m         \u001b[38;5;28;01mif\u001b[39;00m word2[i] \u001b[38;5;241m==\u001b[39m \u001b[38;5;124m'\u001b[39m\u001b[38;5;124m'\u001b[39m:\n",
      "\u001b[1;31mIndexError\u001b[0m: string index out of range"
     ]
    }
   ],
   "source": [
    "def mergeAlternately(word1, word2):\n",
    "\n",
    "    # print(word1[:])\n",
    "    # print(word2[:])\n",
    "    w1 = 0\n",
    "    w2 = 0\n",
    "    s = ''\n",
    "    if len(word1) < len(word2):\n",
    "        for i in range(len(word2)):\n",
    "            if word1[i] == '':\n",
    "                print(w1)\n",
    "            if word2[i] == '':\n",
    "                print(w2)\n",
    "    print(w1,w2)        \n",
    "\n",
    "    # print(word1, word2)\n",
    "    # print(word1[0:])\n",
    "    # print(word2[0:])\n",
    "    # word3 = []\n",
    "    # if len(word2)<len(word1):\n",
    "    #     print(\"hi\")\n",
    "    #     for i in range(len(word1)):\n",
    "    #         print(word1[i], word2[i])\n",
    "    # else:\n",
    "    #     for i in range(len(word1)):\n",
    "    #         if word1[i] == \" \":\n",
    "    #             rem = word2[i:]\n",
    "    #             print(i)\n",
    "    #             word3.append(rem)\n",
    "    #             break\n",
    "    #         else:\n",
    "    #             word3.append(word1[i])\n",
    "    #             word3.append(word2[i])\n",
    "    # return word3\n",
    "word1 = \"ab\"\n",
    "word2 = \"pqrs\"\n",
    "res = mergeAlternately(word1, word2)\n",
    "print(res)\n"
   ]
  },
  {
   "cell_type": "code",
   "execution_count": 25,
   "metadata": {},
   "outputs": [
    {
     "name": "stdout",
     "output_type": "stream",
     "text": [
      "True\n"
     ]
    }
   ],
   "source": [
    "from collections import Counter\n",
    "\n",
    "\n",
    "def isIsomorphic(s, t):\n",
    "    s1 = Counter(s)\n",
    "    t1 = Counter(t)\n",
    "    for value in s1.values():\n",
    "        if value not in t1.values():\n",
    "            return False\n",
    "    return True\n",
    "\n",
    "s = \"egg\"\n",
    "t = \"add\"\n",
    "res = isIsomorphic(s,t)\n",
    "print(res)"
   ]
  },
  {
   "cell_type": "code",
   "execution_count": null,
   "metadata": {},
   "outputs": [],
   "source": []
  }
 ],
 "metadata": {
  "kernelspec": {
   "display_name": "Python 3",
   "language": "python",
   "name": "python3"
  },
  "language_info": {
   "codemirror_mode": {
    "name": "ipython",
    "version": 3
   },
   "file_extension": ".py",
   "mimetype": "text/x-python",
   "name": "python",
   "nbconvert_exporter": "python",
   "pygments_lexer": "ipython3",
   "version": "3.12.0"
  }
 },
 "nbformat": 4,
 "nbformat_minor": 2
}
