{
 "cells": [
  {
   "cell_type": "code",
   "execution_count": 2,
   "metadata": {},
   "outputs": [
    {
     "name": "stdout",
     "output_type": "stream",
     "text": [
      "2\n"
     ]
    }
   ],
   "source": [
    "def diagonalDifference(arr):\n",
    "    # Write your code here\n",
    "    sum_l = 0\n",
    "    sum_r = 0\n",
    "    a, b = 0, 0\n",
    "    x, y = 0, len(arr[0]) - 1\n",
    "    for i in range(len(arr[0])):\n",
    "        for j in range(1):\n",
    "            sum_l += arr[a][b]\n",
    "            a += 1\n",
    "            b += 1\n",
    "        for k in range(1):\n",
    "            sum_r += arr[x][y]\n",
    "            x += 1\n",
    "            y -= 1\n",
    "    return abs(sum_l - sum_r)\n",
    "\n",
    "\n",
    "arr = [[1, 2, 3], [4, 5, 6], [9, 8, 9]]\n",
    "res = diagonalDifference(arr)\n",
    "print(res)"
   ]
  },
  {
   "cell_type": "code",
   "execution_count": 7,
   "metadata": {},
   "outputs": [
    {
     "name": "stdout",
     "output_type": "stream",
     "text": [
      "2\n",
      "None\n"
     ]
    }
   ],
   "source": [
    "from collections import Counter\n",
    "\n",
    "\n",
    "def birthdayCakeCandles(candles):\n",
    "    # Write your code here\n",
    "    a = Counter(candles)\n",
    "    print(a[max(a)])\n",
    "\n",
    "\n",
    "res = birthdayCakeCandles([3, 2, 1, 3])\n",
    "print(res)"
   ]
  },
  {
   "cell_type": "code",
   "execution_count": 18,
   "metadata": {},
   "outputs": [
    {
     "name": "stdout",
     "output_type": "stream",
     "text": [
      "19:05:45\n"
     ]
    }
   ],
   "source": [
    "from datetime import datetime\n",
    "import time\n",
    "\n",
    "\n",
    "def timeConversion(s):\n",
    "    # Write your code here\n",
    "    # if s[8] == 'P':\n",
    "    pass\n",
    "\n",
    "\n",
    "s = \"07:05:45PM\"\n",
    "\n",
    "time_object = datetime.strptime(s, \"%I:%M:%S%p\")\n",
    "formatted_time = time_object.strftime(\"%H:%M:%S\")\n",
    "print(formatted_time)"
   ]
  },
  {
   "cell_type": "code",
   "execution_count": 32,
   "metadata": {},
   "outputs": [
    {
     "name": "stdout",
     "output_type": "stream",
     "text": [
      "(1, 1)\n"
     ]
    }
   ],
   "source": [
    "def countApplesAndOranges(s, t, a, b, apples, oranges):\n",
    "    # Write your code here\n",
    "    count_apples = 0\n",
    "    count_oranges = 0\n",
    "    for i in range(len(apples)):\n",
    "        cal_apple = a + apples[i]\n",
    "        if cal_apple in range(s, t+1):\n",
    "            count_apples += 1\n",
    "    for i in range(len(oranges)):\n",
    "        cal_orange = b + oranges[i]\n",
    "        if cal_orange in range(s, t+1):\n",
    "            count_oranges += 1\n",
    "    return count_apples, count_oranges\n",
    "\n",
    "\n",
    "res = countApplesAndOranges(7, 11, 5, 15, [-2, 2, 1], [5, -6])\n",
    "print(res)"
   ]
  },
  {
   "cell_type": "code",
   "execution_count": 19,
   "metadata": {},
   "outputs": [
    {
     "name": "stdout",
     "output_type": "stream",
     "text": [
      "CCC"
     ]
    }
   ],
   "source": [
    "s = \"101010\"\n",
    "dit = {\"00\": \"A\", \"01\": \"T\", \"10\": \"C\"}\n",
    "i = 0\n",
    "while i < len(s):\n",
    "    dna = s[i] + s[i + 1]\n",
    "    print(dit[dna], end=\"\")\n",
    "    i += 2"
   ]
  },
  {
   "cell_type": "code",
   "execution_count": null,
   "metadata": {},
   "outputs": [],
   "source": []
  },
  {
   "cell_type": "code",
   "execution_count": null,
   "metadata": {},
   "outputs": [],
   "source": []
  }
 ],
 "metadata": {
  "kernelspec": {
   "display_name": "Python 3",
   "language": "python",
   "name": "python3"
  },
  "language_info": {
   "codemirror_mode": {
    "name": "ipython",
    "version": 3
   },
   "file_extension": ".py",
   "mimetype": "text/x-python",
   "name": "python",
   "nbconvert_exporter": "python",
   "pygments_lexer": "ipython3",
   "version": "3.12.0"
  }
 },
 "nbformat": 4,
 "nbformat_minor": 2
}
