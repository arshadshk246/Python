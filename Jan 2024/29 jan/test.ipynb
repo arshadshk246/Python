{
 "cells": [
  {
   "cell_type": "code",
   "execution_count": null,
   "metadata": {},
   "outputs": [],
   "source": [
    " select distinct visit_id,  count_days from (\n",
    "    select visit_id,\n",
    "           visit_date,\n",
    "           count(*) over(partition by visit_id order by visit_date range between 1  preceding  and 1 following  )  count_days\n",
    "    from orders group by  visit_id, visit_date\n",
    ")\n",
    "where count_days = 3;"
   ]
  },
  {
   "cell_type": "code",
   "execution_count": null,
   "metadata": {},
   "outputs": [],
   "source": [
    "WITH t1 AS (\n",
    "    SELECT v1.customer_id, v1.visit_date, v1.amount,\n",
    "        SUM(v2.amount) OVER (PARTITION BY v1.customer_id ORDER BY v1.visit_date ROWS BETWEEN 4 PRECEDING AND CURRENT ROW) AS rolling_sum\n",
    "    FROM visits v1\n",
    "    JOIN visits v2 ON v1.customer_id = v2.customer_id AND v2.visit_date BETWEEN DATEADD(day, -4, v1.visit_date) AND v1.visit_date\n",
    "), t2 AS (\n",
    "    SELECT customer_id, rolling_sum,\n",
    "        ROW_NUMBER() OVER (PARTITION BY customer_id ORDER BY rolling_sum DESC) AS rn\n",
    "    FROM t1\n",
    ")\n",
    "SELECT customer_id, rolling_sum AS max_amount\n",
    "FROM t2\n",
    "WHERE rn = 1;"
   ]
  },
  {
   "cell_type": "code",
   "execution_count": null,
   "metadata": {},
   "outputs": [],
   "source": [
    "WITH t1 AS (\n",
    "    SELECT a.airplane_id, a.airline_id, a.total_seats, \n",
    "           COALESCE(SUM(b.booked), 0) AS booked_seats,\n",
    "           a.total_seats - COALESCE(SUM(b.booked), 0) AS emp_seats\n",
    "    FROM airlines_detail a\n",
    "    LEFT JOIN bookings b ON a.airplane_id = b.airplane_id\n",
    "    GROUP BY a.airplane_id, a.airline_id, a.total_seats\n",
    "),\n",
    "t2 AS (\n",
    "    SELECT airline_id, AVG(emp_seats) AS t2\n",
    "    FROM t1\n",
    "    GROUP BY airline_id\n",
    "),\n",
    "t3 AS (\n",
    "    SELECT t1.airplane_id, t1.airline_id, t1.emp_seats, \n",
    "           RANK() OVER (PARTITION BY t1.airline_id ORDER BY ABS(t1.emp_seats - t2.t2)) AS rank\n",
    "    FROM t1 t1\n",
    "    JOIN t2 ON t1.airline_id = t2.airline_id\n",
    ")\n",
    "SELECT airline_id, STRING_AGG(airplane_id, ',') AS airplanes\n",
    "FROM t3\n",
    "WHERE rank = 1\n",
    "GROUP BY airline_id\n",
    "ORDER BY airline_id;"
   ]
  }
 ],
 "metadata": {
  "language_info": {
   "name": "python"
  }
 },
 "nbformat": 4,
 "nbformat_minor": 2
}
