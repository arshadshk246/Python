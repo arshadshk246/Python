{
 "cells": [
  {
   "cell_type": "markdown",
   "metadata": {},
   "source": [
    "# Leetcode"
   ]
  },
  {
   "cell_type": "code",
   "execution_count": 1,
   "metadata": {},
   "outputs": [
    {
     "name": "stdout",
     "output_type": "stream",
     "text": [
      "2\n"
     ]
    }
   ],
   "source": [
    "class Solution:\n",
    "    def lengthOfCLIS(self, nums):\n",
    "        count = 0\n",
    "        max_count = 0\n",
    "        for i in range(len(nums)-1):\n",
    "            if nums[i]>nums[i+1]:\n",
    "                count = 0\n",
    "                continue\n",
    "            count+=1\n",
    "            max_count = max(count, max_count)\n",
    "        return max_count\n",
    "\n",
    "nums = [10,9,2,5,3,7,101,18]\n",
    "x = Solution()\n",
    "print(x.lengthOfCLIS(nums))"
   ]
  },
  {
   "cell_type": "code",
   "execution_count": 2,
   "metadata": {},
   "outputs": [
    {
     "name": "stdout",
     "output_type": "stream",
     "text": [
      "4\n"
     ]
    }
   ],
   "source": [
    "class Solution:\n",
    "    def lengthOfLIS(self, nums):\n",
    "        LIS = [1] * len(nums)\n",
    "        for i in range(len(nums) - 1, -1, -1):\n",
    "            for j in range(i+1, len(nums)):\n",
    "                if nums[i] < nums[j]:\n",
    "                    LIS[i] = max(LIS[i], 1 + LIS[j])\n",
    "\n",
    "        return max(LIS)\n",
    "\n",
    "nums = [10,9,2,5,3,7,101,18]\n",
    "x = Solution()\n",
    "print(x.lengthOfLIS(nums))"
   ]
  },
  {
   "cell_type": "markdown",
   "metadata": {},
   "source": [
    "# OOPS (Continue)"
   ]
  },
  {
   "cell_type": "markdown",
   "metadata": {},
   "source": [
    "## Encapsulation\n",
    "***Access Modifiers:***\n",
    "\n",
    "Access modifiers (public, private, and protected) are used to control the visibility of attributes and methods within a class.\n",
    "\n",
    "**Public:** Accessible from anywhere, both inside and outside the class.\n",
    "\n",
    "**Protected:(declared with single underscore \"_\")** Accessible within the class and its subclasses.\n",
    "\n",
    "**Private:(declared with double underscore \"__\")** Accessible only within the class itself."
   ]
  },
  {
   "cell_type": "code",
   "execution_count": 12,
   "metadata": {},
   "outputs": [
    {
     "data": {
      "text/plain": [
       "67000"
      ]
     },
     "execution_count": 12,
     "metadata": {},
     "output_type": "execute_result"
    }
   ],
   "source": [
    "# Protected\n",
    "\n",
    "class BankAccount:\n",
    "    def __init__(self, balance=5000):\n",
    "        self._balance = balance\n",
    "\n",
    "    def get_balance(self):\n",
    "        return self._balance\n",
    "\n",
    "    def deposit(self, amount):\n",
    "        self._balance += amount\n",
    "\n",
    "    def withdraw(self, amount):\n",
    "        self._balance -= amount\n",
    "\n",
    "Rohan = BankAccount()\n",
    "Rohan.deposit(77000)\n",
    "Rohan.get_balance()\n",
    "Rohan.withdraw(15000)\n",
    "Rohan.get_balance()"
   ]
  },
  {
   "cell_type": "code",
   "execution_count": 14,
   "metadata": {},
   "outputs": [
    {
     "name": "stdout",
     "output_type": "stream",
     "text": [
      "Private\n"
     ]
    }
   ],
   "source": [
    "# Private\n",
    "\n",
    "class Example: \n",
    "    def __init__(self):\n",
    "        self.__private_attribute = \"Private\"\n",
    "\n",
    "    def __private_method(self):\n",
    "        return \"Private method\"\n",
    "    \n",
    "    def get_private_attribute(self):\n",
    "        return self.__private_attribute\n",
    "    \n",
    "obj = Example()\n",
    "print(obj.get_private_attribute())"
   ]
  },
  {
   "cell_type": "markdown",
   "metadata": {},
   "source": [
    "## Polymorphism"
   ]
  },
  {
   "cell_type": "code",
   "execution_count": 3,
   "metadata": {},
   "outputs": [
    {
     "name": "stdout",
     "output_type": "stream",
     "text": [
      "9\n"
     ]
    }
   ],
   "source": [
    "class Poly:\n",
    "\n",
    "    def __init__(self,x=0,y=0,z=0):\n",
    "        self.x = x\n",
    "        self.y = y\n",
    "        self.z = z\n",
    "\n",
    "    def add(self, x, y):\n",
    "        return x+y\n",
    "    \n",
    "    def add(self, x, y, z):\n",
    "        return x+y+z\n",
    "    \n",
    "p = Poly()\n",
    "res = p.add(4,5,0)\n",
    "print(res)"
   ]
  },
  {
   "cell_type": "code",
   "execution_count": null,
   "metadata": {},
   "outputs": [],
   "source": []
  }
 ],
 "metadata": {
  "kernelspec": {
   "display_name": "Python 3",
   "language": "python",
   "name": "python3"
  },
  "language_info": {
   "codemirror_mode": {
    "name": "ipython",
    "version": 3
   },
   "file_extension": ".py",
   "mimetype": "text/x-python",
   "name": "python",
   "nbconvert_exporter": "python",
   "pygments_lexer": "ipython3",
   "version": "3.12.0"
  }
 },
 "nbformat": 4,
 "nbformat_minor": 2
}
