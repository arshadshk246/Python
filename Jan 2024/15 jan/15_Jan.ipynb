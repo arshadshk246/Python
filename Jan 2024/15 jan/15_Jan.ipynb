{
 "cells": [
  {
   "cell_type": "code",
   "execution_count": 1,
   "metadata": {},
   "outputs": [
    {
     "name": "stdout",
     "output_type": "stream",
     "text": [
      "much.very.program.this.like.i\n"
     ]
    }
   ],
   "source": [
    "def reverseWords(s):\n",
    "    # code here\n",
    "    lst = []\n",
    "    rev_s = s.split(\".\")\n",
    "    for i in range(len(rev_s) - 1, -1, -1):\n",
    "        lst.append(rev_s[i])\n",
    "    s = \".\".join(lst)\n",
    "    return s\n",
    "\n",
    "\n",
    "res = reverseWords(\"i.like.this.program.very.much\")\n",
    "print(res)"
   ]
  },
  {
   "cell_type": "code",
   "execution_count": 2,
   "metadata": {},
   "outputs": [
    {
     "data": {
      "text/plain": [
       "25"
      ]
     },
     "execution_count": 2,
     "metadata": {},
     "output_type": "execute_result"
    }
   ],
   "source": [
    "pow(5, 2)"
   ]
  },
  {
   "cell_type": "code",
   "execution_count": 3,
   "metadata": {},
   "outputs": [
    {
     "name": "stdout",
     "output_type": "stream",
     "text": [
      "6\n"
     ]
    }
   ],
   "source": [
    "# factorial of a number\n",
    "# 7 = 7*6*5*4\n",
    "def fact(num):\n",
    "    if num < 1:\n",
    "        return 1\n",
    "    return num * fact(num - 1)\n",
    "\n",
    "\n",
    "res = fact(3)\n",
    "print(res)"
   ]
  },
  {
   "cell_type": "code",
   "execution_count": 4,
   "metadata": {},
   "outputs": [
    {
     "name": "stdout",
     "output_type": "stream",
     "text": [
      "5\n"
     ]
    }
   ],
   "source": [
    "# fibonacci series\n",
    "# 0 1 1 2 3 5 8\n",
    "\n",
    "# Recursive Solution\n",
    "\n",
    "\n",
    "def fib(num):\n",
    "    if num == 0:\n",
    "        return 0\n",
    "    if num == 1:\n",
    "        return 1\n",
    "    return fib(num - 1) + fib(num - 2)\n",
    "\n",
    "\n",
    "print(fib(5))"
   ]
  },
  {
   "cell_type": "code",
   "execution_count": 5,
   "metadata": {},
   "outputs": [
    {
     "name": "stdout",
     "output_type": "stream",
     "text": [
      "[0, 1, 1, 2, 3, 5, 8, 13, 21]\n"
     ]
    }
   ],
   "source": [
    "# Iterative Approach\n",
    "\n",
    "lst = [0, 1]\n",
    "num = 8\n",
    "for i in range(1, num):\n",
    "    lst.append(lst[i] + lst[i - 1])\n",
    "\n",
    "print(lst)"
   ]
  },
  {
   "cell_type": "code",
   "execution_count": 6,
   "metadata": {},
   "outputs": [
    {
     "name": "stdout",
     "output_type": "stream",
     "text": [
      "12586269025\n"
     ]
    }
   ],
   "source": [
    "# Dynamic Approach\n",
    "\n",
    "\n",
    "def fib(num, memo={}):\n",
    "    if num in memo:\n",
    "        return memo[num]\n",
    "    if num == 0:\n",
    "        return 0\n",
    "    if num == 1:\n",
    "        return 1\n",
    "    result = fib(num - 1, memo) + fib(num - 2, memo)\n",
    "    memo[num] = result\n",
    "    return result\n",
    "\n",
    "\n",
    "res = fib(50)\n",
    "print(res)"
   ]
  },
  {
   "cell_type": "markdown",
   "metadata": {},
   "source": [
    "# Generators and Yield"
   ]
  },
  {
   "cell_type": "markdown",
   "metadata": {},
   "source": [
    "### https://www.geeksforgeeks.org/use-yield-keyword-instead-return-keyword-python/"
   ]
  },
  {
   "cell_type": "code",
   "execution_count": 7,
   "metadata": {},
   "outputs": [
    {
     "name": "stdout",
     "output_type": "stream",
     "text": [
      "[0, 1, 4, 9, 16]\n",
      "0\n",
      "1\n",
      "4\n",
      "9\n",
      "16\n"
     ]
    }
   ],
   "source": [
    "# Yield keyword is used when we want to return a result in an iterative way unlike\n",
    "# return keyword which only returns the output as a whole (at once) and terminates the function execution.\n",
    "\n",
    "\n",
    "def square(n):\n",
    "    i = 1\n",
    "\n",
    "    for i in range(n):  # returns squares till n-1\n",
    "        yield i * i\n",
    "\n",
    "\n",
    "# How to get the output\n",
    "\n",
    "# Method 1 using list\n",
    "print(list(square(5)))\n",
    "\n",
    "# Method 2 using the loop\n",
    "for num in square(5):\n",
    "    print(num)"
   ]
  },
  {
   "cell_type": "markdown",
   "metadata": {},
   "source": [
    "# Tuple"
   ]
  },
  {
   "cell_type": "code",
   "execution_count": 8,
   "metadata": {},
   "outputs": [
    {
     "name": "stdout",
     "output_type": "stream",
     "text": [
      "('Hello', 'this', 'is', 'a', 'Tuple')\n"
     ]
    }
   ],
   "source": [
    "my_tuple = (\"Hello\", \"this\", \"is\", \"a\", \"Tuple\")\n",
    "\n",
    "print(my_tuple)"
   ]
  },
  {
   "cell_type": "code",
   "execution_count": 9,
   "metadata": {},
   "outputs": [
    {
     "name": "stdout",
     "output_type": "stream",
     "text": [
      "(1, 'this', 'is', 44, 'Mixed', False)\n"
     ]
    }
   ],
   "source": [
    "# Mixed data types\n",
    "\n",
    "tup = (1, \"this\", \"is\", 44, \"Mixed\", False)\n",
    "print(tup)"
   ]
  },
  {
   "cell_type": "code",
   "execution_count": 10,
   "metadata": {},
   "outputs": [
    {
     "name": "stdout",
     "output_type": "stream",
     "text": [
      "Hello Hello Hello \n"
     ]
    }
   ],
   "source": [
    "# Tuple with Multiplication operator\n",
    "\n",
    "rep = (\"Hello \") * 3\n",
    "print(rep)"
   ]
  },
  {
   "cell_type": "markdown",
   "metadata": {},
   "source": [
    "### Accessing Tuple "
   ]
  },
  {
   "cell_type": "code",
   "execution_count": 11,
   "metadata": {},
   "outputs": [
    {
     "name": "stdout",
     "output_type": "stream",
     "text": [
      "Hello\n"
     ]
    }
   ],
   "source": [
    "tup = (\"Hello\", \"this\", \"is\", \"a\", \"Tuple\")\n",
    "\n",
    "print(tup[0])"
   ]
  },
  {
   "cell_type": "code",
   "execution_count": 12,
   "metadata": {},
   "outputs": [
    {
     "name": "stdout",
     "output_type": "stream",
     "text": [
      "Hello\n",
      "this\n",
      "is\n",
      "a\n",
      "Tuple\n"
     ]
    }
   ],
   "source": [
    "for i in tup:\n",
    "    print(i)"
   ]
  },
  {
   "cell_type": "code",
   "execution_count": 13,
   "metadata": {},
   "outputs": [
    {
     "name": "stdout",
     "output_type": "stream",
     "text": [
      "Hello, Good Morning!\n"
     ]
    }
   ],
   "source": [
    "tup = (\"Hello,\", \"Good\", \"Morning!\")\n",
    "a, b, c = tup\n",
    "print(a, b, c)"
   ]
  },
  {
   "cell_type": "markdown",
   "metadata": {},
   "source": [
    "### Concatinating tuples"
   ]
  },
  {
   "cell_type": "code",
   "execution_count": 14,
   "metadata": {},
   "outputs": [
    {
     "name": "stdout",
     "output_type": "stream",
     "text": [
      "('This', 'is', 'Tuple1', 'This', 'is', 'Tuple2', 'This', 'is', 'Tuple3')\n"
     ]
    }
   ],
   "source": [
    "tup1 = (\"This\", \"is\", \"Tuple1\")\n",
    "tup2 = (\"This\", \"is\", \"Tuple2\")\n",
    "tup3 = (\"This\", \"is\", \"Tuple3\")\n",
    "\n",
    "print(tup1 + tup2 + tup3)"
   ]
  },
  {
   "cell_type": "markdown",
   "metadata": {},
   "source": [
    "### ***all()***: Returns true if all element are true or if tuple is empty"
   ]
  },
  {
   "cell_type": "code",
   "execution_count": 15,
   "metadata": {},
   "outputs": [
    {
     "name": "stdout",
     "output_type": "stream",
     "text": [
      "True\n",
      "True\n",
      "False\n",
      "True\n"
     ]
    }
   ],
   "source": [
    "tup = ()\n",
    "print(all(tup))\n",
    "\n",
    "tup = (\"This\", \"is\", 44)\n",
    "print(all(tup))\n",
    "\n",
    "tup = (0, 0, False, False)\n",
    "print(all(tup))\n",
    "\n",
    "tup = (1, 1)\n",
    "print(all(tup))"
   ]
  },
  {
   "cell_type": "markdown",
   "metadata": {},
   "source": [
    "### ***all()***: to check whether the ele in tuple are even "
   ]
  },
  {
   "cell_type": "code",
   "execution_count": 16,
   "metadata": {},
   "outputs": [
    {
     "name": "stdout",
     "output_type": "stream",
     "text": [
      "True\n",
      "False\n"
     ]
    }
   ],
   "source": [
    "tup1 = (2, 4, 6, 8)\n",
    "tup2 = (3, 5, 7)\n",
    "print(all(ele % 2 == 0 for ele in tup1))\n",
    "print(all(ele % 2 == 0 for ele in tup2))"
   ]
  },
  {
   "cell_type": "markdown",
   "metadata": {},
   "source": [
    "### ***any()***: \n",
    "\n",
    "https://www.geeksforgeeks.org/python-any-function/?ref=lbp\n",
    "\n",
    "If at least one element in the Python list is True, it will return ‘True’; otherwise, it will      return ‘False’. Additionally, there is a step to check if all elements in List meet condition in Python. This is achieved using the all() function itself."
   ]
  },
  {
   "cell_type": "code",
   "execution_count": 17,
   "metadata": {},
   "outputs": [
    {
     "name": "stdout",
     "output_type": "stream",
     "text": [
      "True\n",
      "False\n"
     ]
    }
   ],
   "source": [
    "l = [4, 5, 7]\n",
    "print(any(l))\n",
    "\n",
    "l = [0, 0, False]\n",
    "print(any(l))"
   ]
  },
  {
   "cell_type": "markdown",
   "metadata": {},
   "source": [
    "## Enumerate()"
   ]
  },
  {
   "cell_type": "code",
   "execution_count": 18,
   "metadata": {},
   "outputs": [
    {
     "name": "stdout",
     "output_type": "stream",
     "text": [
      "(0, 'eat')\n",
      "(1, 'sleep')\n",
      "(2, 'repeat')\n"
     ]
    }
   ],
   "source": [
    "lt = [\"eat\", \"sleep\", \"repeat\"]\n",
    "\n",
    "for ele in enumerate(lt):\n",
    "    print(ele)"
   ]
  },
  {
   "cell_type": "markdown",
   "metadata": {},
   "source": [
    "### ***eval()***"
   ]
  },
  {
   "cell_type": "code",
   "execution_count": 19,
   "metadata": {},
   "outputs": [
    {
     "name": "stdout",
     "output_type": "stream",
     "text": [
      "x**2+3*x-5\n",
      "13\n"
     ]
    }
   ],
   "source": [
    "expression = \"x**2+3*x-5\"\n",
    "print(expression)\n",
    "\n",
    "x = 3\n",
    "\n",
    "result = eval(expression)\n",
    "print(result)"
   ]
  },
  {
   "cell_type": "code",
   "execution_count": 20,
   "metadata": {},
   "outputs": [
    {
     "name": "stdout",
     "output_type": "stream",
     "text": [
      "sin(x) - cos(y) + x**2/(y+1) - exp(-(x+y))\n",
      "3.550528897607924\n"
     ]
    }
   ],
   "source": [
    "from math import sin, cos, exp\n",
    "\n",
    "expression = \"sin(x) - cos(y) + x**2/(y+1) - exp(-(x+y))\"\n",
    "print(expression)\n",
    "\n",
    "x = 3\n",
    "y = 2\n",
    "\n",
    "result = eval(expression, {\"sin\": sin, \"cos\": cos, \"exp\": exp, \"x\": x, \"y\": y})\n",
    "print(result)"
   ]
  },
  {
   "cell_type": "code",
   "execution_count": 25,
   "metadata": {},
   "outputs": [
    {
     "name": "stdout",
     "output_type": "stream",
     "text": [
      "8\n"
     ]
    }
   ],
   "source": [
    "arr = [x for x in range(1000000, -1, -1)]\n",
    "# print(arr)\n",
    "target = 8\n",
    "\n",
    "for i in arr:\n",
    "    if i == target:\n",
    "        print(i)"
   ]
  },
  {
   "cell_type": "code",
   "execution_count": null,
   "metadata": {},
   "outputs": [],
   "source": []
  }
 ],
 "metadata": {
  "kernelspec": {
   "display_name": "Python 3",
   "language": "python",
   "name": "python3"
  },
  "language_info": {
   "codemirror_mode": {
    "name": "ipython",
    "version": 3
   },
   "file_extension": ".py",
   "mimetype": "text/x-python",
   "name": "python",
   "nbconvert_exporter": "python",
   "pygments_lexer": "ipython3",
   "version": "3.12.0"
  }
 },
 "nbformat": 4,
 "nbformat_minor": 2
}
